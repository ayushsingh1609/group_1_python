{
 "cells": [
  {
   "cell_type": "code",
   "execution_count": 2,
   "metadata": {},
   "outputs": [
    {
     "name": "stdout",
     "output_type": "stream",
     "text": [
      "Collecting ta\n",
      "  Downloading ta-0.11.0.tar.gz (25 kB)\n",
      "  Preparing metadata (setup.py) ... \u001b[?25ldone\n",
      "\u001b[?25hRequirement already satisfied: numpy in /opt/anaconda3/lib/python3.12/site-packages (from ta) (1.26.4)\n",
      "Requirement already satisfied: pandas in /opt/anaconda3/lib/python3.12/site-packages (from ta) (2.2.2)\n",
      "Requirement already satisfied: python-dateutil>=2.8.2 in /opt/anaconda3/lib/python3.12/site-packages (from pandas->ta) (2.9.0.post0)\n",
      "Requirement already satisfied: pytz>=2020.1 in /opt/anaconda3/lib/python3.12/site-packages (from pandas->ta) (2024.1)\n",
      "Requirement already satisfied: tzdata>=2022.7 in /opt/anaconda3/lib/python3.12/site-packages (from pandas->ta) (2023.3)\n",
      "Requirement already satisfied: six>=1.5 in /opt/anaconda3/lib/python3.12/site-packages (from python-dateutil>=2.8.2->pandas->ta) (1.16.0)\n",
      "Building wheels for collected packages: ta\n",
      "  Building wheel for ta (setup.py) ... \u001b[?25ldone\n",
      "\u001b[?25h  Created wheel for ta: filename=ta-0.11.0-py3-none-any.whl size=29411 sha256=6fb8b446b8a493fcc04f2b8912acf7c4c4541b3049f7c91da9846eb895b35ede\n",
      "  Stored in directory: /Users/ayushsingh/Library/Caches/pip/wheels/5c/a1/5f/c6b85a7d9452057be4ce68a8e45d77ba34234a6d46581777c6\n",
      "Successfully built ta\n",
      "Installing collected packages: ta\n",
      "Successfully installed ta-0.11.0\n",
      "Note: you may need to restart the kernel to use updated packages.\n"
     ]
    }
   ],
   "source": [
    "pip install ta "
   ]
  },
  {
   "cell_type": "code",
   "execution_count": 17,
   "metadata": {},
   "outputs": [
    {
     "name": "stderr",
     "output_type": "stream",
     "text": [
      "/opt/anaconda3/lib/python3.12/site-packages/sklearn/utils/_array_api.py:472: RuntimeWarning: All-NaN slice encountered\n",
      "  return xp.asarray(numpy.nanmin(X, axis=axis))\n",
      "/opt/anaconda3/lib/python3.12/site-packages/sklearn/utils/_array_api.py:489: RuntimeWarning: All-NaN slice encountered\n",
      "  return xp.asarray(numpy.nanmax(X, axis=axis))\n"
     ]
    },
    {
     "name": "stdout",
     "output_type": "stream",
     "text": [
      "ETL Process Completed. Data saved at: transformed_stock_data.csv\n"
     ]
    }
   ],
   "source": [
    "import pandas as pd\n",
    "import numpy as np\n",
    "from sklearn.preprocessing import MinMaxScaler\n",
    "\n",
    "def etl_stock_data(file_path):\n",
    "    # Load dataset\n",
    "    df = pd.read_csv('df_final.csv')\n",
    "    \n",
    "    # Convert date column to datetime\n",
    "    df['date'] = pd.to_datetime(df['date'])\n",
    "    df = df.sort_values(by=['ticker', 'date'])\n",
    "    \n",
    "    # Remove unnecessary columns\n",
    "    df = df[['ticker', 'date', 'open', 'high', 'low', 'close', 'adj. close', 'volume']]\n",
    "    \n",
    "    # Feature Engineering\n",
    "    df['daily_return'] = df.groupby('ticker')['adj. close'].pct_change()\n",
    "    df['volatility'] = df.groupby('ticker')['daily_return'].rolling(window=5).std().reset_index(level=0, drop=True)\n",
    "    df['5_day_ma'] = df.groupby('ticker')['adj. close'].rolling(window=5).mean().reset_index(level=0, drop=True)\n",
    "    df['10_day_ma'] = df.groupby('ticker')['adj. close'].rolling(window=10).mean().reset_index(level=0, drop=True)\n",
    "    df['20_day_ma'] = df.groupby('ticker')['adj. close'].rolling(window=20).mean().reset_index(level=0, drop=True)\n",
    "    \n",
    "    # Shift close price to serve as next day's prediction target\n",
    "    df['next_day_close'] = df.groupby('ticker')['adj. close'].shift(-1)\n",
    "    \n",
    "    # Drop rows with NaN values (caused by rolling operations)\n",
    "    df = df.dropna()\n",
    "    \n",
    "    # Normalize numeric features\n",
    "    scaler = MinMaxScaler()\n",
    "    numerical_cols = ['open', 'high', 'low', 'close', 'adj. close', 'volume', 'daily_return', 'volatility', '5_day_ma', '10_day_ma', '20_day_ma']\n",
    "    df[numerical_cols] = scaler.fit_transform(df[numerical_cols])\n",
    "    \n",
    "    return df\n",
    "\n",
    "# Example usage:\n",
    "file_path = \"df_final.csv\"\n",
    "cleaned_df = etl_stock_data(file_path)\n",
    "\n",
    "# Save processed data\n",
    "cleaned_df.to_csv(\"/mnt/data/processed_stock_data.csv\", index=False)\n"
   ]
  },
  {
   "cell_type": "code",
   "execution_count": null,
   "metadata": {},
   "outputs": [],
   "source": []
  },
  {
   "cell_type": "markdown",
   "metadata": {},
   "source": [
    "f\"/Users/ayushsingh/Desktop/MBD/Python 2/Group Assignment/stock_predictor_app/models/{ticker}_price_model.joblib\")"
   ]
  }
 ],
 "metadata": {
  "kernelspec": {
   "display_name": "base",
   "language": "python",
   "name": "python3"
  },
  "language_info": {
   "codemirror_mode": {
    "name": "ipython",
    "version": 3
   },
   "file_extension": ".py",
   "mimetype": "text/x-python",
   "name": "python",
   "nbconvert_exporter": "python",
   "pygments_lexer": "ipython3",
   "version": "3.12.4"
  }
 },
 "nbformat": 4,
 "nbformat_minor": 2
}
